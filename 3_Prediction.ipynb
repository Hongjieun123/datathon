{
 "cells": [
  {
   "cell_type": "code",
   "execution_count": 1,
   "id": "fatal-specification",
   "metadata": {
    "execution": {
     "iopub.execute_input": "2021-12-10T03:07:46.924686Z",
     "iopub.status.busy": "2021-12-10T03:07:46.924394Z",
     "iopub.status.idle": "2021-12-10T03:07:49.370507Z",
     "shell.execute_reply": "2021-12-10T03:07:49.369728Z",
     "shell.execute_reply.started": "2021-12-10T03:07:46.924654Z"
    }
   },
   "outputs": [],
   "source": [
    "from sklearn.metrics import (\n",
    "    classification_report,\n",
    "    confusion_matrix,\n",
    "    f1_score,\n",
    "    recall_score,\n",
    "    roc_auc_score,\n",
    "    roc_curve\n",
    ")\n",
    "import matplotlib.pyplot as plt\n",
    "import pandas as pd\n",
    "from tensorflow.keras import layers, Sequential, Model, Input\n",
    "import tensorflow as tf\n",
    "import numpy as np\n",
    "np.load.__defaults__=(None, False, True, 'ASCII')"
   ]
  },
  {
   "cell_type": "code",
   "execution_count": 2,
   "id": "growing-agreement",
   "metadata": {
    "execution": {
     "iopub.execute_input": "2021-12-10T03:07:49.771312Z",
     "iopub.status.busy": "2021-12-10T03:07:49.771086Z",
     "iopub.status.idle": "2021-12-10T03:07:49.774667Z",
     "shell.execute_reply": "2021-12-10T03:07:49.773908Z",
     "shell.execute_reply.started": "2021-12-10T03:07:49.771284Z"
    }
   },
   "outputs": [],
   "source": [
    "raw_path = '/tf/je_hong/datathon'"
   ]
  },
  {
   "cell_type": "code",
   "execution_count": 3,
   "id": "orange-powell",
   "metadata": {
    "execution": {
     "iopub.execute_input": "2021-12-10T03:07:49.776038Z",
     "iopub.status.busy": "2021-12-10T03:07:49.775818Z",
     "iopub.status.idle": "2021-12-10T03:08:00.092159Z",
     "shell.execute_reply": "2021-12-10T03:08:00.091235Z",
     "shell.execute_reply.started": "2021-12-10T03:07:49.776011Z"
    }
   },
   "outputs": [],
   "source": [
    "X_train = np.load(raw_path+'/X_train_nor.npy')\n",
    "X_valid = np.load(raw_path+'/X_valid_nor.npy')"
   ]
  },
  {
   "cell_type": "code",
   "execution_count": 4,
   "id": "white-store",
   "metadata": {
    "execution": {
     "iopub.execute_input": "2021-12-10T03:08:00.126788Z",
     "iopub.status.busy": "2021-12-10T03:08:00.126538Z",
     "iopub.status.idle": "2021-12-10T03:08:00.245773Z",
     "shell.execute_reply": "2021-12-10T03:08:00.244956Z",
     "shell.execute_reply.started": "2021-12-10T03:08:00.126761Z"
    }
   },
   "outputs": [
    {
     "name": "stdout",
     "output_type": "stream",
     "text": [
      "x train shape:  (38836, 5000, 12) \n",
      "x valid shape:  (4859, 5000, 12) \n",
      "y train shape:  (38836,) \n",
      "y valid shape:  (4859,)\n"
     ]
    }
   ],
   "source": [
    "train_df = pd.read_csv(raw_path+'/train_info.csv')\n",
    "valid_df = pd.read_csv(raw_path+'/valid_info.csv')\n",
    "train_label = train_df['y'].apply(lambda x:1 if x == 'arrhythimia' else 0).tolist()\n",
    "valid_label =valid_df['y'].apply(lambda x:1 if x == 'arrhythimia' else 0).tolist()\n",
    "y_train = np.array(train_label)\n",
    "y_valid = np.array(valid_label)\n",
    "print('x train shape: ', X_train.shape, '\\nx valid shape: ', X_valid.shape, '\\ny train shape: ', y_train.shape, '\\ny valid shape: ', y_valid.shape)"
   ]
  },
  {
   "cell_type": "code",
   "execution_count": 5,
   "id": "governing-appointment",
   "metadata": {
    "execution": {
     "iopub.execute_input": "2021-12-10T03:08:00.247795Z",
     "iopub.status.busy": "2021-12-10T03:08:00.247551Z",
     "iopub.status.idle": "2021-12-10T03:08:08.407793Z",
     "shell.execute_reply": "2021-12-10T03:08:08.406662Z",
     "shell.execute_reply.started": "2021-12-10T03:08:00.247767Z"
    }
   },
   "outputs": [],
   "source": [
    "model = tf.keras.models.load_model(raw_path+'/{0}/{1}'.format('exp_best_model', 'best_model.h5'))\n",
    "pred = model.predict(X_valid)"
   ]
  },
  {
   "cell_type": "code",
   "execution_count": 6,
   "id": "portable-casting",
   "metadata": {
    "execution": {
     "iopub.execute_input": "2021-12-10T03:08:08.409852Z",
     "iopub.status.busy": "2021-12-10T03:08:08.409600Z",
     "iopub.status.idle": "2021-12-10T03:08:08.415912Z",
     "shell.execute_reply": "2021-12-10T03:08:08.415283Z",
     "shell.execute_reply.started": "2021-12-10T03:08:08.409819Z"
    }
   },
   "outputs": [],
   "source": [
    "def plot_roc_curve(fper, tper):\n",
    "    plt.figure(figsize=(8,8))\n",
    "    plt.plot(fper, tper, color='red', label='ROC')\n",
    "    plt.plot([0, 1], [0, 1], color='green', linestyle='--')\n",
    "    plt.xlabel('False Positive Rate')\n",
    "    plt.ylabel('True Positive Rate')\n",
    "    plt.title('Receiver Operating Characteristic Curve')\n",
    "    plt.legend()\n",
    "#     plt.show()\n",
    "    plt.savefig('savefig_default.png')"
   ]
  },
  {
   "cell_type": "code",
   "execution_count": 7,
   "id": "afraid-franklin",
   "metadata": {
    "execution": {
     "iopub.execute_input": "2021-12-10T03:08:08.417055Z",
     "iopub.status.busy": "2021-12-10T03:08:08.416839Z",
     "iopub.status.idle": "2021-12-10T03:08:08.703420Z",
     "shell.execute_reply": "2021-12-10T03:08:08.702760Z",
     "shell.execute_reply.started": "2021-12-10T03:08:08.417028Z"
    }
   },
   "outputs": [
    {
     "name": "stdout",
     "output_type": "stream",
     "text": [
      "roc auc value\n",
      "0.995943124421086 \n"
     ]
    },
    {
     "data": {
      "image/png": "[encoded data removed]",
      "text/plain": [
       "<Figure size 576x576 with 1 Axes>"
      ]
     },
     "metadata": {
      "needs_background": "light"
     },
     "output_type": "display_data"
    }
   ],
   "source": [
    "fper, tper, thresholds = roc_curve(y_valid, pred)\n",
    "plot_roc_curve(fper, tper)\n",
    "print('roc auc value\\n{} '.format(roc_auc_score(y_valid, pred)))"
   ]
  }
 ],
 "metadata": {
  "kernelspec": {
   "display_name": "Python 3",
   "language": "python",
   "name": "python3"
  },
  "language_info": {
   "codemirror_mode": {
    "name": "ipython",
    "version": 3
   },
   "file_extension": ".py",
   "mimetype": "text/x-python",
   "name": "python",
   "nbconvert_exporter": "python",
   "pygments_lexer": "ipython3",
   "version": "3.6.9"
  }
 },
 "nbformat": 4,
 "nbformat_minor": 5
}
